{
 "cells": [
  {
   "cell_type": "markdown",
   "id": "d523f1b1",
   "metadata": {},
   "source": [
    "# CASE STUDY-  REGRESSION"
   ]
  },
  {
   "cell_type": "markdown",
   "id": "5b7be09a",
   "metadata": {},
   "source": [
    "Importing Libraries"
   ]
  },
  {
   "cell_type": "code",
   "execution_count": 1,
   "id": "e58092b1",
   "metadata": {},
   "outputs": [],
   "source": [
    "import pandas as pd\n",
    "import numpy as np\n",
    "import matplotlib.pyplot as plt\n",
    "import seaborn as sns\n",
    "from sklearn.model_selection import train_test_split\n",
    "from sklearn.linear_model import LinearRegression\n",
    "from sklearn.metrics import mean_squared_error,r2_score\n",
    "from sklearn.linear_model import Lasso"
   ]
  },
  {
   "cell_type": "markdown",
   "id": "4aed9932",
   "metadata": {},
   "source": [
    "Reading the csv file of data set 'car_age_price' into python envrionment"
   ]
  },
  {
   "cell_type": "code",
   "execution_count": 2,
   "id": "5376f855",
   "metadata": {},
   "outputs": [],
   "source": [
    "data=pd.read_csv(r\"C:\\Users\\Admin\\Downloads\\car_age_price.csv\")"
   ]
  },
  {
   "cell_type": "markdown",
   "id": "3cd3295a",
   "metadata": {},
   "source": [
    "Displaying the top 5 rows of data"
   ]
  },
  {
   "cell_type": "code",
   "execution_count": 3,
   "id": "a091ccfa",
   "metadata": {},
   "outputs": [
    {
     "data": {
      "text/html": [
       "<div>\n",
       "<style scoped>\n",
       "    .dataframe tbody tr th:only-of-type {\n",
       "        vertical-align: middle;\n",
       "    }\n",
       "\n",
       "    .dataframe tbody tr th {\n",
       "        vertical-align: top;\n",
       "    }\n",
       "\n",
       "    .dataframe thead th {\n",
       "        text-align: right;\n",
       "    }\n",
       "</style>\n",
       "<table border=\"1\" class=\"dataframe\">\n",
       "  <thead>\n",
       "    <tr style=\"text-align: right;\">\n",
       "      <th></th>\n",
       "      <th>Year</th>\n",
       "      <th>Price</th>\n",
       "    </tr>\n",
       "  </thead>\n",
       "  <tbody>\n",
       "    <tr>\n",
       "      <th>0</th>\n",
       "      <td>2018</td>\n",
       "      <td>465000</td>\n",
       "    </tr>\n",
       "    <tr>\n",
       "      <th>1</th>\n",
       "      <td>2019</td>\n",
       "      <td>755000</td>\n",
       "    </tr>\n",
       "    <tr>\n",
       "      <th>2</th>\n",
       "      <td>2019</td>\n",
       "      <td>700000</td>\n",
       "    </tr>\n",
       "    <tr>\n",
       "      <th>3</th>\n",
       "      <td>2018</td>\n",
       "      <td>465000</td>\n",
       "    </tr>\n",
       "    <tr>\n",
       "      <th>4</th>\n",
       "      <td>2018</td>\n",
       "      <td>465000</td>\n",
       "    </tr>\n",
       "  </tbody>\n",
       "</table>\n",
       "</div>"
      ],
      "text/plain": [
       "   Year   Price\n",
       "0  2018  465000\n",
       "1  2019  755000\n",
       "2  2019  700000\n",
       "3  2018  465000\n",
       "4  2018  465000"
      ]
     },
     "execution_count": 3,
     "metadata": {},
     "output_type": "execute_result"
    }
   ],
   "source": [
    "data.head()"
   ]
  },
  {
   "cell_type": "markdown",
   "id": "0aef98c8",
   "metadata": {},
   "source": [
    "The dataset contains 2 columns..Year of making and Price"
   ]
  },
  {
   "cell_type": "code",
   "execution_count": 4,
   "id": "d0657066",
   "metadata": {},
   "outputs": [
    {
     "name": "stdout",
     "output_type": "stream",
     "text": [
      "<class 'pandas.core.frame.DataFrame'>\n",
      "RangeIndex: 112 entries, 0 to 111\n",
      "Data columns (total 2 columns):\n",
      " #   Column  Non-Null Count  Dtype\n",
      "---  ------  --------------  -----\n",
      " 0   Year    112 non-null    int64\n",
      " 1   Price   112 non-null    int64\n",
      "dtypes: int64(2)\n",
      "memory usage: 1.9 KB\n"
     ]
    }
   ],
   "source": [
    "data.info()"
   ]
  },
  {
   "cell_type": "code",
   "execution_count": 5,
   "id": "66830b3f",
   "metadata": {},
   "outputs": [
    {
     "data": {
      "text/plain": [
       "Index(['Year', 'Price'], dtype='object')"
      ]
     },
     "execution_count": 5,
     "metadata": {},
     "output_type": "execute_result"
    }
   ],
   "source": [
    "data.columns"
   ]
  },
  {
   "cell_type": "markdown",
   "id": "8b6b1a21",
   "metadata": {},
   "source": [
    "# FIND THE CORRELATION BETWEEN YEAR AND PRICE"
   ]
  },
  {
   "cell_type": "markdown",
   "id": "a46fdcc5",
   "metadata": {},
   "source": [
    "Find the correlation coeffiecent and plot it using heatmap"
   ]
  },
  {
   "cell_type": "code",
   "execution_count": 6,
   "id": "367b88a5",
   "metadata": {},
   "outputs": [
    {
     "data": {
      "text/plain": [
       "<AxesSubplot:>"
      ]
     },
     "execution_count": 6,
     "metadata": {},
     "output_type": "execute_result"
    },
    {
     "data": {
      "image/png": "[encoded data removed]",
      "text/plain": [
       "<Figure size 720x288 with 2 Axes>"
      ]
     },
     "metadata": {
      "needs_background": "light"
     },
     "output_type": "display_data"
    }
   ],
   "source": [
    "corrmatrix=data.corr()\n",
    "plt.subplots(figsize=(10,4))\n",
    "sns.heatmap(corrmatrix,vmin=0.2,vmax=0.9,annot=True,cmap='YlGnBu')"
   ]
  },
  {
   "cell_type": "markdown",
   "id": "0fda9667",
   "metadata": {},
   "source": [
    "Splitting the data and target"
   ]
  },
  {
   "cell_type": "code",
   "execution_count": 7,
   "id": "c23de832",
   "metadata": {},
   "outputs": [],
   "source": [
    "X=data.drop(['Price'],axis=1)\n",
    "y=data['Price']"
   ]
  },
  {
   "cell_type": "code",
   "execution_count": 8,
   "id": "d819d62d",
   "metadata": {},
   "outputs": [
    {
     "name": "stdout",
     "output_type": "stream",
     "text": [
      "     Year\n",
      "0    2018\n",
      "1    2019\n",
      "2    2019\n",
      "3    2018\n",
      "4    2018\n",
      "..    ...\n",
      "107  2016\n",
      "108  2014\n",
      "109  2015\n",
      "110  2016\n",
      "111  2015\n",
      "\n",
      "[112 rows x 1 columns]\n"
     ]
    }
   ],
   "source": [
    "print(X)"
   ]
  },
  {
   "cell_type": "code",
   "execution_count": 9,
   "id": "a9fc20e6",
   "metadata": {},
   "outputs": [
    {
     "name": "stdout",
     "output_type": "stream",
     "text": [
      "0      465000\n",
      "1      755000\n",
      "2      700000\n",
      "3      465000\n",
      "4      465000\n",
      "        ...  \n",
      "107    375000\n",
      "108    300000\n",
      "109    425000\n",
      "110    420000\n",
      "111    425000\n",
      "Name: Price, Length: 112, dtype: int64\n"
     ]
    }
   ],
   "source": [
    "print(y)"
   ]
  },
  {
   "cell_type": "markdown",
   "id": "a4cebe07",
   "metadata": {},
   "source": [
    "## Splitting Data into Training data and test data"
   ]
  },
  {
   "cell_type": "code",
   "execution_count": 10,
   "id": "7040a7c6",
   "metadata": {},
   "outputs": [],
   "source": [
    "X_train,X_test,y_train,y_test = train_test_split(X,y,random_state=42,test_size=0.2)"
   ]
  },
  {
   "cell_type": "markdown",
   "id": "bd073094",
   "metadata": {},
   "source": [
    "## Linear Regression Model"
   ]
  },
  {
   "cell_type": "code",
   "execution_count": 11,
   "id": "b6af3c2b",
   "metadata": {},
   "outputs": [],
   "source": [
    "lr=LinearRegression()\n",
    "model=lr.fit(X_train,y_train)\n",
    "predictions=model.predict(X_test)"
   ]
  },
  {
   "cell_type": "code",
   "execution_count": 12,
   "id": "49e55f37",
   "metadata": {},
   "outputs": [
    {
     "name": "stdout",
     "output_type": "stream",
     "text": [
      "Mean Squared Error is :  4326906256.829671\n",
      " R squared value is   :  0.36759313425902185\n"
     ]
    }
   ],
   "source": [
    "print(\"Mean Squared Error is : \", mean_squared_error(y_test,predictions))\n",
    "print(\" R squared value is   : \",r2_score(y_test,predictions))"
   ]
  },
  {
   "cell_type": "markdown",
   "id": "b9ac7e4d",
   "metadata": {},
   "source": [
    "Predicting for the year 2022"
   ]
  },
  {
   "cell_type": "code",
   "execution_count": 13,
   "id": "5092595b",
   "metadata": {},
   "outputs": [
    {
     "data": {
      "text/plain": [
       "array([743601.61594504])"
      ]
     },
     "execution_count": 13,
     "metadata": {},
     "output_type": "execute_result"
    }
   ],
   "source": [
    "year = [2022]\n",
    "year = pd.DataFrame(year, columns=['Year'])\n",
    "predictions = model.predict(year)\n",
    "predictions"
   ]
  },
  {
   "cell_type": "markdown",
   "id": "cc5e3d04",
   "metadata": {},
   "source": [
    "## POSSIBLE PRICE OF 2022 MODEL SECOND HAND GRAND I10 IS 743601.."
   ]
  },
  {
   "cell_type": "markdown",
   "id": "883c3c7f",
   "metadata": {},
   "source": [
    "# LASSO REGRESSION MODEL"
   ]
  },
  {
   "cell_type": "code",
   "execution_count": 14,
   "id": "fe35aba0",
   "metadata": {},
   "outputs": [
    {
     "data": {
      "text/plain": [
       "Lasso()"
      ]
     },
     "execution_count": 14,
     "metadata": {},
     "output_type": "execute_result"
    }
   ],
   "source": [
    "lasso=Lasso(alpha=1.0)\n",
    "lasso.fit(X_train,y_train)"
   ]
  },
  {
   "cell_type": "code",
   "execution_count": 15,
   "id": "7e134d5d",
   "metadata": {},
   "outputs": [],
   "source": [
    "y_pred1=lasso.predict(X_test)"
   ]
  },
  {
   "cell_type": "code",
   "execution_count": 16,
   "id": "5c37ed3b",
   "metadata": {},
   "outputs": [
    {
     "data": {
      "text/plain": [
       "array([600774.90747294, 505558.59627394, 553166.75187345, 553166.75187345,\n",
       "       553166.75187345, 410342.28507493, 505558.59627394, 553166.75187345,\n",
       "       600774.90747294, 600774.90747294, 315125.97387594, 505558.59627394,\n",
       "       410342.28507493, 648383.06307244, 553166.75187345, 600774.90747294,\n",
       "       315125.97387594, 410342.28507493, 505558.59627394, 505558.59627394,\n",
       "       505558.59627394, 505558.59627394, 505558.59627394])"
      ]
     },
     "execution_count": 16,
     "metadata": {},
     "output_type": "execute_result"
    }
   ],
   "source": [
    "y_pred1"
   ]
  },
  {
   "cell_type": "code",
   "execution_count": 17,
   "id": "2289b270",
   "metadata": {},
   "outputs": [
    {
     "data": {
      "text/html": [
       "<div>\n",
       "<style scoped>\n",
       "    .dataframe tbody tr th:only-of-type {\n",
       "        vertical-align: middle;\n",
       "    }\n",
       "\n",
       "    .dataframe tbody tr th {\n",
       "        vertical-align: top;\n",
       "    }\n",
       "\n",
       "    .dataframe thead th {\n",
       "        text-align: right;\n",
       "    }\n",
       "</style>\n",
       "<table border=\"1\" class=\"dataframe\">\n",
       "  <thead>\n",
       "    <tr style=\"text-align: right;\">\n",
       "      <th></th>\n",
       "      <th>Year</th>\n",
       "    </tr>\n",
       "  </thead>\n",
       "  <tbody>\n",
       "    <tr>\n",
       "      <th>40</th>\n",
       "      <td>2019</td>\n",
       "    </tr>\n",
       "    <tr>\n",
       "      <th>65</th>\n",
       "      <td>2017</td>\n",
       "    </tr>\n",
       "    <tr>\n",
       "      <th>4</th>\n",
       "      <td>2018</td>\n",
       "    </tr>\n",
       "    <tr>\n",
       "      <th>47</th>\n",
       "      <td>2018</td>\n",
       "    </tr>\n",
       "    <tr>\n",
       "      <th>42</th>\n",
       "      <td>2018</td>\n",
       "    </tr>\n",
       "    <tr>\n",
       "      <th>69</th>\n",
       "      <td>2015</td>\n",
       "    </tr>\n",
       "    <tr>\n",
       "      <th>26</th>\n",
       "      <td>2017</td>\n",
       "    </tr>\n",
       "    <tr>\n",
       "      <th>11</th>\n",
       "      <td>2018</td>\n",
       "    </tr>\n",
       "    <tr>\n",
       "      <th>10</th>\n",
       "      <td>2019</td>\n",
       "    </tr>\n",
       "    <tr>\n",
       "      <th>44</th>\n",
       "      <td>2019</td>\n",
       "    </tr>\n",
       "    <tr>\n",
       "      <th>73</th>\n",
       "      <td>2013</td>\n",
       "    </tr>\n",
       "    <tr>\n",
       "      <th>55</th>\n",
       "      <td>2017</td>\n",
       "    </tr>\n",
       "    <tr>\n",
       "      <th>68</th>\n",
       "      <td>2015</td>\n",
       "    </tr>\n",
       "    <tr>\n",
       "      <th>97</th>\n",
       "      <td>2020</td>\n",
       "    </tr>\n",
       "    <tr>\n",
       "      <th>0</th>\n",
       "      <td>2018</td>\n",
       "    </tr>\n",
       "    <tr>\n",
       "      <th>18</th>\n",
       "      <td>2019</td>\n",
       "    </tr>\n",
       "    <tr>\n",
       "      <th>53</th>\n",
       "      <td>2013</td>\n",
       "    </tr>\n",
       "    <tr>\n",
       "      <th>80</th>\n",
       "      <td>2015</td>\n",
       "    </tr>\n",
       "    <tr>\n",
       "      <th>103</th>\n",
       "      <td>2017</td>\n",
       "    </tr>\n",
       "    <tr>\n",
       "      <th>91</th>\n",
       "      <td>2017</td>\n",
       "    </tr>\n",
       "    <tr>\n",
       "      <th>36</th>\n",
       "      <td>2017</td>\n",
       "    </tr>\n",
       "    <tr>\n",
       "      <th>12</th>\n",
       "      <td>2017</td>\n",
       "    </tr>\n",
       "    <tr>\n",
       "      <th>31</th>\n",
       "      <td>2017</td>\n",
       "    </tr>\n",
       "  </tbody>\n",
       "</table>\n",
       "</div>"
      ],
      "text/plain": [
       "     Year\n",
       "40   2019\n",
       "65   2017\n",
       "4    2018\n",
       "47   2018\n",
       "42   2018\n",
       "69   2015\n",
       "26   2017\n",
       "11   2018\n",
       "10   2019\n",
       "44   2019\n",
       "73   2013\n",
       "55   2017\n",
       "68   2015\n",
       "97   2020\n",
       "0    2018\n",
       "18   2019\n",
       "53   2013\n",
       "80   2015\n",
       "103  2017\n",
       "91   2017\n",
       "36   2017\n",
       "12   2017\n",
       "31   2017"
      ]
     },
     "execution_count": 17,
     "metadata": {},
     "output_type": "execute_result"
    }
   ],
   "source": [
    "X_test"
   ]
  },
  {
   "cell_type": "markdown",
   "id": "d2da8adb",
   "metadata": {},
   "source": [
    "MEAN SQUARED ERROR AND LASSO REGRESSION MODEL"
   ]
  },
  {
   "cell_type": "code",
   "execution_count": 18,
   "id": "fd1f3c01",
   "metadata": {},
   "outputs": [
    {
     "name": "stdout",
     "output_type": "stream",
     "text": [
      "Mean squared error on test set 4326859771.015669\n"
     ]
    }
   ],
   "source": [
    "mean_squared_error = np.mean((y_pred1 - y_test)**2)\n",
    "print(\"Mean squared error on test set\", mean_squared_error)"
   ]
  },
  {
   "cell_type": "code",
   "execution_count": 19,
   "id": "04f07219",
   "metadata": {},
   "outputs": [
    {
     "name": "stdout",
     "output_type": "stream",
     "text": [
      "R Squared value is: 0.3675999284778446\n"
     ]
    }
   ],
   "source": [
    "print('R Squared value is:',r2_score(y_test,y_pred1))"
   ]
  },
  {
   "cell_type": "code",
   "execution_count": 20,
   "id": "a85be9b7",
   "metadata": {},
   "outputs": [],
   "source": [
    "lasso_coeff = pd.DataFrame()\n",
    "lasso_coeff[\"Columns\"] = X_train.columns\n",
    "lasso_coeff['Coefficient Estimate'] = pd.Series(lasso.coef_)"
   ]
  },
  {
   "cell_type": "code",
   "execution_count": 21,
   "id": "be7f1f5d",
   "metadata": {},
   "outputs": [
    {
     "data": {
      "text/plain": [
       "array([743599.37427144])"
      ]
     },
     "execution_count": 21,
     "metadata": {},
     "output_type": "execute_result"
    }
   ],
   "source": [
    "##Predicting price of i10 in the year using Lasso Regression model\n",
    "##Price in year 2022 would be: 743599.37427144\n",
    "year = [2022]\n",
    "year = pd.DataFrame(year, columns=['Year'])\n",
    "prediction = lasso.predict(year)\n",
    "prediction"
   ]
  },
  {
   "cell_type": "code",
   "execution_count": 22,
   "id": "f4cf8fc3",
   "metadata": {},
   "outputs": [
    {
     "data": {
      "image/png": "[encoded data removed]",
      "text/plain": [
       "<Figure size 432x288 with 1 Axes>"
      ]
     },
     "metadata": {
      "needs_background": "light"
     },
     "output_type": "display_data"
    }
   ],
   "source": [
    "plt.scatter( X_test, y_pred1 ,color='blue')\n",
    "          \n",
    "plt.title( 'Year vs Predicted test price' )\n",
    "      \n",
    "plt.xlabel( 'Year' )\n",
    "plt.ylabel( 'Price' )\n",
    "      \n",
    "plt.show()"
   ]
  },
  {
   "cell_type": "markdown",
   "id": "de4561e7",
   "metadata": {},
   "source": [
    "Mean Squared Error using Linear Regression  -   4326906256.829671\n",
    "Mean squared Error using LASSO regression   -   4326859771.015669\n"
   ]
  }
 ],
 "metadata": {
  "kernelspec": {
   "display_name": "Python 3 (ipykernel)",
   "language": "python",
   "name": "python3"
  },
  "language_info": {
   "codemirror_mode": {
    "name": "ipython",
    "version": 3
   },
   "file_extension": ".py",
   "mimetype": "text/x-python",
   "name": "python",
   "nbconvert_exporter": "python",
   "pygments_lexer": "ipython3",
   "version": "3.9.12"
  }
 },
 "nbformat": 4,
 "nbformat_minor": 5
}
